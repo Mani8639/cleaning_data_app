{
 "cells": [
  {
   "cell_type": "code",
   "execution_count": 1,
   "id": "575bf494-0320-4a9c-ab0f-d04f2bb9b2b7",
   "metadata": {},
   "outputs": [
    {
     "name": "stderr",
     "output_type": "stream",
     "text": [
      "2025-06-29 21:51:39.251 \n",
      "  \u001b[33m\u001b[1mWarning:\u001b[0m to view this Streamlit app on a browser, run it with the following\n",
      "  command:\n",
      "\n",
      "    streamlit run C:\\Users\\addal\\AppData\\Local\\Programs\\Python\\Python311\\Lib\\site-packages\\ipykernel_launcher.py [ARGUMENTS]\n"
     ]
    }
   ],
   "source": [
    "# app.py\n",
    "import streamlit as st\n",
    "import pandas as pd\n",
    "import numpy as np\n",
    "from sklearn.impute import SimpleImputer\n",
    "\n",
    "st.set_page_config(page_title=\"Data Cleaning App\", layout=\"wide\")\n",
    "\n",
    "st.title(\"🔧 Data Cleaning App\")\n",
    "st.write(\"Upload your CSV file and perform basic cleaning operations like handling missing values, outliers, and data type conversion.\")\n",
    "\n",
    "# Upload CSV\n",
    "uploaded_file = st.file_uploader(\"Upload a CSV file\", type=[\"csv\"])\n",
    "if uploaded_file is not None:\n",
    "    df = pd.read_csv(uploaded_file)\n",
    "    st.write(\"### Preview of Dataset\", df.head())\n",
    "\n",
    "    # Show missing value info\n",
    "    st.write(\"### Missing Value Summary\")\n",
    "    st.write(df.isnull().sum())\n",
    "\n",
    "    st.subheader(\"🧹 Missing Value Handling\")\n",
    "    missing_option = st.selectbox(\"Choose a method to handle missing values\", \n",
    "                                  [\"None\", \"Drop Rows\", \"Fill with Mean\", \"Fill with Median\", \"Fill with Mode\"])\n",
    "    \n",
    "    if missing_option == \"Drop Rows\":\n",
    "        df.dropna(inplace=True)\n",
    "    elif missing_option == \"Fill with Mean\":\n",
    "        df.fillna(df.mean(numeric_only=True), inplace=True)\n",
    "    elif missing_option == \"Fill with Median\":\n",
    "        df.fillna(df.median(numeric_only=True), inplace=True)\n",
    "    elif missing_option == \"Fill with Mode\":\n",
    "        for column in df.columns:\n",
    "            df[column].fillna(df[column].mode()[0], inplace=True)\n",
    "\n",
    "    # Outlier detection\n",
    "    st.subheader(\"📊 Outlier Handling (IQR Method)\")\n",
    "    numeric_cols = df.select_dtypes(include=['int64', 'float64']).columns.tolist()\n",
    "    outlier_column = st.selectbox(\"Select column to detect outliers\", numeric_cols)\n",
    "\n",
    "    if outlier_column:\n",
    "        Q1 = df[outlier_column].quantile(0.25)\n",
    "        Q3 = df[outlier_column].quantile(0.75)\n",
    "        IQR = Q3 - Q1\n",
    "        lower = Q1 - 1.5 * IQR\n",
    "        upper = Q3 + 1.5 * IQR\n",
    "\n",
    "        st.write(f\"Removing rows outside {lower:.2f} to {upper:.2f}\")\n",
    "        df = df[(df[outlier_column] >= lower) & (df[outlier_column] <= upper)]\n",
    "\n",
    "    # Data type conversion\n",
    "    st.subheader(\"🔄 Data Type Conversion\")\n",
    "    for col in df.columns:\n",
    "        current_dtype = df[col].dtype\n",
    "        st.write(f\"{col} - Current: {current_dtype}\")\n",
    "        new_dtype = st.selectbox(f\"Convert {col} to:\", [\"No Change\", \"int\", \"float\", \"str\", \"category\"], key=col)\n",
    "        if new_dtype != \"No Change\":\n",
    "            try:\n",
    "                df[col] = df[col].astype(new_dtype)\n",
    "            except Exception as e:\n",
    "                st.error(f\"Error converting {col}: {e}\")\n",
    "\n",
    "    # Show cleaned data\n",
    "    st.write(\"### Cleaned Data Preview\", df.head())\n",
    "\n",
    "    # Download option\n",
    "    @st.cache_data\n",
    "    def convert_df(df):\n",
    "        return df.to_csv(index=False).encode('utf-8')\n",
    "\n",
    "    csv = convert_df(df)\n",
    "    st.download_button(\"📥 Download Cleaned CSV\", data=csv, file_name='cleaned_data.csv', mime='text/csv')\n"
   ]
  },
  {
   "cell_type": "code",
   "execution_count": null,
   "id": "8ad7d019-c576-4626-b4ea-76daf1f4c374",
   "metadata": {},
   "outputs": [],
   "source": []
  }
 ],
 "metadata": {
  "kernelspec": {
   "display_name": "Python 3 (ipykernel)",
   "language": "python",
   "name": "python3"
  },
  "language_info": {
   "codemirror_mode": {
    "name": "ipython",
    "version": 3
   },
   "file_extension": ".py",
   "mimetype": "text/x-python",
   "name": "python",
   "nbconvert_exporter": "python",
   "pygments_lexer": "ipython3",
   "version": "3.11.5"
  }
 },
 "nbformat": 4,
 "nbformat_minor": 5
}
